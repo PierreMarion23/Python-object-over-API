{
 "cells": [
  {
   "cell_type": "code",
   "execution_count": 1,
   "metadata": {
    "collapsed": true
   },
   "outputs": [],
   "source": [
    "import requests\n",
    "import pickle\n",
    "import copy\n",
    "import datetime as dt"
   ]
  },
  {
   "cell_type": "code",
   "execution_count": 2,
   "metadata": {
    "collapsed": true
   },
   "outputs": [],
   "source": [
    "verbose = True"
   ]
  },
  {
   "cell_type": "code",
   "execution_count": 3,
   "metadata": {
    "collapsed": true
   },
   "outputs": [],
   "source": [
    "# This class maps a dictionary into a simple Python object\n",
    "class Dict2Obj(object):\n",
    "    '''\n",
    "    Class to transform a dict into an obj.\n",
    "    \n",
    "    Dict keys must be string which becomes the obj attributes' names.\n",
    "    '''\n",
    "    \n",
    "    def __init__(self, dic):\n",
    "        for key in dic:\n",
    "            setattr(self, key, dic[key])\n",
    "        else:\n",
    "            return None\n",
    "    def __repr__(self):\n",
    "        return str(self.__dict__)\n",
    "    def __copy__(self):\n",
    "        return Dict2Obj(self.__dict__)"
   ]
  },
  {
   "cell_type": "code",
   "execution_count": 4,
   "metadata": {
    "collapsed": true
   },
   "outputs": [],
   "source": [
    "# Please launch the server before continuing\n",
    "url_exploration = 'http://localhost:5044/api/exploration'\n",
    "url_function_request = 'http://localhost:5044/api/function_request'"
   ]
  },
  {
   "cell_type": "code",
   "execution_count": 5,
   "metadata": {
    "collapsed": true
   },
   "outputs": [],
   "source": [
    "def generic_function(submodule_name, file_name, function_name,\n",
    "                     method_name=None, **args):\n",
    "    '''\n",
    "    Post a request to the server asking to execute\n",
    "    the corresponding remote function.\n",
    "    \n",
    "    :param str submodule_name: the name of the submodule\n",
    "        which contains the function to be executed\n",
    "\n",
    "    :param str file_name: the name of the file\n",
    "        which contains the function to be executed\n",
    "\n",
    "    :param str function_name: the name of the function\n",
    "        to be executed\n",
    "\n",
    "    :param str method_name: if this parameter is not None\n",
    "        it means function_name is actually the name of a class ;\n",
    "        thus method_name contains the name of the method of the class\n",
    "        to be executed.\n",
    "\n",
    "    :param dict **args: is a dict of arguments for the function\n",
    "        we want to execute. Besides these arguments, it may also\n",
    "    contains:\n",
    "        - a variable _dic, which contains the object's __dict__\n",
    "            and which is passed through the API\n",
    "        - a variable _obj, which contains the object itself.\n",
    "            It cannot be passed through the API, but it is used to\n",
    "            locally modify the object after the result has been\n",
    "            returned by the API.\n",
    "\n",
    "    :return: result from the remote function.\n",
    "\n",
    "    :raise: Exception if the POST request returns an error.\n",
    "    '''\n",
    "\n",
    "    args = dict((k, v) for (k, v) in args.items() if v != '__$__')\n",
    "    \n",
    "    # for special methods (such as __repr__), the obj is passed in _dic,\n",
    "    # so we need to pop it out and replace it by its __dict__\n",
    "    if method_name is not None and method_name[:2] == '__':\n",
    "        obj = args['_dic']\n",
    "        args['_dic'] = dict((k, v) for (k, v) in args['_dic'].__dict__.items()\n",
    "                            if not hasattr(v, \"__call__\"))\n",
    "    else:    \n",
    "        obj = args.pop(\"_obj\") if \"_obj\" in args else None\n",
    "\n",
    "    dic = {'module':'main_module.' + submodule_name + '.' + file_name,\n",
    "           'function':function_name, 'args':args}\n",
    "\n",
    "    if method_name:\n",
    "        dic['method'] = method_name \n",
    "    req = requests.post(url_function_request, data=pickle.dumps(dic))\n",
    "    incoming = pickle.loads(req.content)\n",
    "\n",
    "    if req.status_code == 400 or req.status_code == 521:\n",
    "        print(req.json()['error'])\n",
    "        raise Exception(req.json()['error'])\n",
    "    \n",
    "    if req.status_code == 201:\n",
    "        if verbose:\n",
    "            print('creating class dynamically...')\n",
    "        # populate instance with its __dict__\n",
    "        instance = Dict2Obj(incoming['_dic'])\n",
    "        methods = incoming['methods']\n",
    "        # populate instance with its methods\n",
    "        for method_name, list_of_args in methods.items():\n",
    "            # we don't want to have access to the __init__ here.\n",
    "            if method_name != '__init__':\n",
    "                list_of_args.insert(0, \"_dic\")\n",
    "                function = dic_to_func(submodule_name, file_name, function_name,\n",
    "                                       list_of_args, method_name=method_name)\n",
    "                setattr(instance, method_name, function)\n",
    "        return change_instance_functions_to_pass_obj_and_dic(instance,\n",
    "                                                             function_name)\n",
    "    elif req.status_code == 202:\n",
    "        if verbose:\n",
    "            print('updating object...')\n",
    "        method_result = incoming['method_result']\n",
    "        # updating the instance __dict__\n",
    "        obj.__dict__.update(incoming['_dic'])\n",
    "        return method_result\n",
    "    \n",
    "    else:        \n",
    "        return incoming\n"
   ]
  },
  {
   "cell_type": "code",
   "execution_count": 6,
   "metadata": {
    "collapsed": true
   },
   "outputs": [],
   "source": [
    "def dic_to_func(submodule_name, file_name, function_name, list_of_args,\n",
    "                method_name=None):\n",
    "    '''String manipulations to create lambda function from its signature.'''\n",
    "\n",
    "    s = 'function = lambda '\n",
    "    for attr in [x for x in list_of_args if x != '**kwargs']:\n",
    "        s += attr + ','\n",
    "    s += '**kwargs: generic_function(\"' + '\", \"'.join([submodule_name,\n",
    "                                                       file_name,\n",
    "                                                       function_name])\n",
    "    if method_name:\n",
    "        s += '\", \"' + method_name\n",
    "    s += '\", **{'\n",
    "    for attr_name in [x.split('=')[0] for x in list_of_args\n",
    "                        if x != '**kwargs']:\n",
    "        s += '\"' + attr_name + '\":' + attr_name + ','\n",
    "    s = s[:-1] + \"}, **kwargs)\"\n",
    "    print(s)\n",
    "    exec(s)\n",
    "    return locals()['function']"
   ]
  },
  {
   "cell_type": "code",
   "execution_count": 7,
   "metadata": {
    "collapsed": true
   },
   "outputs": [],
   "source": [
    "def change_instance_functions_to_pass_obj_and_dic(instance, function_name):\n",
    "    '''String manipulations to pass the _obj and the _dic arguments\n",
    "    to the lambda function without the user having to worry about it.'''\n",
    "\n",
    "    if verbose:\n",
    "        print('in change_instance_functions_to_pass_obj_and_dic')\n",
    "    \n",
    "    global _dict_of_variables\n",
    "    try:\n",
    "        _dict_of_variables\n",
    "    except:\n",
    "        _dict_of_variables = {}\n",
    "  #  if \"_dict_of_variables\" not in globals():\n",
    "  #      globals()['_dict_of_variables'] = {}\n",
    "    \n",
    "    copy_of_instance = copy.copy(instance)\n",
    "    \n",
    "    tag = str(dt.datetime.now())\n",
    "    _dict_of_variables[tag + '-0'] = instance\n",
    "    _dict_of_variables[tag + '-1'] = copy_of_instance\n",
    "    counter = 1\n",
    "    \n",
    "    dic_special_method = {}\n",
    "    \n",
    "    for name, func in instance.__dict__.items():\n",
    "        if hasattr(func, '__call__'):\n",
    "            counter += 1\n",
    "            _dict_of_variables[tag + '-' + str(counter)] = name\n",
    "            \n",
    "            s = 'instance.temp = lambda '\n",
    "            for attr in [x for x in list(func.__code__.co_varnames)\n",
    "                         if x not in ['_dic', 'kwargs']]:\n",
    "                s += attr + '=\"__$__\",'\n",
    "            s += '**kwargs: getattr(_dict_of_variables[\"' + tag + \\\n",
    "                 '-0\"], _dict_of_variables[\"' + tag + '-' + str(counter) + '\"])'\n",
    "            s += '(_obj = _dict_of_variables[\"' + tag + \\\n",
    "                 '-1\"], _dic=dict((k, v) for (k, v) in _dict_of_variables[\"' + \\\n",
    "                 tag + '-1\"].__dict__.items() if not hasattr(v, \"__call__\")),**{'\n",
    "            for attr_name in [x.split('=')[0] for x in list(func.__code__.co_varnames)\n",
    "                              if x not in ['_dic', 'kwargs']]:\n",
    "                s += '\"' + attr_name + '\":' + attr_name + ','\n",
    "            if s[-1] == ',':\n",
    "                s = s[:-1]\n",
    "            s += '}, **kwargs)'\n",
    "            print(s)\n",
    "            exec(s)\n",
    "            if name[:2] != '__':\n",
    "                setattr(copy_of_instance, name, instance.temp)\n",
    "            else:\n",
    "                # special methods such as __repr__ are stacked\n",
    "                # in dic_special_method, which is passed\n",
    "                # to the class and not to the instance\n",
    "                dic_special_method[name] = func\n",
    "                del copy_of_instance.__dict__[name]\n",
    "            delattr(instance, 'temp')\n",
    "            \n",
    "    copy_of_instance.__class__ = type(function_name, (Dict2Obj,), dic_special_method)\n",
    "    return copy_of_instance"
   ]
  },
  {
   "cell_type": "code",
   "execution_count": 8,
   "metadata": {},
   "outputs": [
    {
     "name": "stdout",
     "output_type": "stream",
     "text": [
      "status code: 200\n",
      "{'submodule1': {'file1': {'Hallo': {'__init__': ['name'], '__repr__': [], 'polite': ['toto', 't=3', '**kwargs'], 'test': []}, 'bonjour': ['x'], 'hello': ['y', 'x', 'z=1', '**kwargs']}, 'file2': {'goodbye': ['x', 'y', 'z']}}, 'submodule2': {'file3': {'bonjour': ['x'], 'hello': ['y', 'x', 'z=1', '**kwargs']}, 'file4': {'goodbye': ['x', 'y', 'z']}}}\n"
     ]
    }
   ],
   "source": [
    "# here we request for the JSON describing the remote file structure.\n",
    "# The whole code is based on a precise file structure.\n",
    "# See remote module for an example.\n",
    "# It could probably be generalized even further\n",
    "# but that's not worth the trouble for now.\n",
    "\n",
    "r = requests.get(url_exploration)\n",
    "print(\"status code: \" + str(r.status_code))\n",
    "print(r.json())"
   ]
  },
  {
   "cell_type": "code",
   "execution_count": 9,
   "metadata": {
    "collapsed": true
   },
   "outputs": [],
   "source": [
    "def create_class_from_name(submodule_name):\n",
    "    '''Instanciate and return an object that reproduces\n",
    "    the structure of a remote submodule.'''\n",
    "\n",
    "    r = requests.get(url_exploration)\n",
    "    dic_files = r.json()[submodule_name]\n",
    "    for file_name, dic_function_names in dic_files.items():\n",
    "        for function_name, list_of_args in dic_function_names.items():\n",
    "            if type(list_of_args) == dict:\n",
    "                list_of_args = list_of_args[\"__init__\"]\n",
    "            dic_files[file_name][function_name] = dic_to_func(submodule_name,\n",
    "                                                              file_name,\n",
    "                                                              function_name,\n",
    "                                                              list_of_args)\n",
    "    obj = Dict2Obj(dic_files)\n",
    "    for k, v in obj.__dict__.items():\n",
    "        setattr(obj, k, Dict2Obj(v))\n",
    "    return obj"
   ]
  },
  {
   "cell_type": "code",
   "execution_count": 10,
   "metadata": {},
   "outputs": [
    {
     "name": "stdout",
     "output_type": "stream",
     "text": [
      "function = lambda name,**kwargs: generic_function(\"submodule1\", \"file1\", \"Hallo\", **{\"name\":name}, **kwargs)\n",
      "function = lambda x,**kwargs: generic_function(\"submodule1\", \"file1\", \"bonjour\", **{\"x\":x}, **kwargs)\n",
      "function = lambda y,x,z=1,**kwargs: generic_function(\"submodule1\", \"file1\", \"hello\", **{\"y\":y,\"x\":x,\"z\":z}, **kwargs)\n",
      "function = lambda x,y,z,**kwargs: generic_function(\"submodule1\", \"file2\", \"goodbye\", **{\"x\":x,\"y\":y,\"z\":z}, **kwargs)\n"
     ]
    }
   ],
   "source": [
    "# here we create local proxy for distant submodule1\n",
    "submodule1 = create_class_from_name('submodule1')"
   ]
  },
  {
   "cell_type": "code",
   "execution_count": 11,
   "metadata": {},
   "outputs": [
    {
     "data": {
      "text/plain": [
       "13"
      ]
     },
     "execution_count": 11,
     "metadata": {},
     "output_type": "execute_result"
    }
   ],
   "source": [
    "# we run one function of the submodule\n",
    "submodule1.file1.hello(3, 4, s=5)"
   ]
  },
  {
   "cell_type": "code",
   "execution_count": 12,
   "metadata": {},
   "outputs": [
    {
     "name": "stdout",
     "output_type": "stream",
     "text": [
      "creating class dynamically...\n",
      "function = lambda _dic,**kwargs: generic_function(\"submodule1\", \"file1\", \"Hallo\", \"__repr__\", **{\"_dic\":_dic}, **kwargs)\n",
      "function = lambda _dic,toto,t=3,**kwargs: generic_function(\"submodule1\", \"file1\", \"Hallo\", \"polite\", **{\"_dic\":_dic,\"toto\":toto,\"t\":t}, **kwargs)\n",
      "function = lambda _dic,**kwargs: generic_function(\"submodule1\", \"file1\", \"Hallo\", \"test\", **{\"_dic\":_dic}, **kwargs)\n",
      "in change_instance_functions_to_pass_obj_and_dic\n",
      "instance.temp = lambda **kwargs: getattr(_dict_of_variables[\"2017-09-03 22:48:46.382459-0\"], _dict_of_variables[\"2017-09-03 22:48:46.382459-2\"])(_obj = _dict_of_variables[\"2017-09-03 22:48:46.382459-1\"], _dic=dict((k, v) for (k, v) in _dict_of_variables[\"2017-09-03 22:48:46.382459-1\"].__dict__.items() if not hasattr(v, \"__call__\")),**{}, **kwargs)\n",
      "instance.temp = lambda toto=\"__$__\",t=\"__$__\",**kwargs: getattr(_dict_of_variables[\"2017-09-03 22:48:46.382459-0\"], _dict_of_variables[\"2017-09-03 22:48:46.382459-3\"])(_obj = _dict_of_variables[\"2017-09-03 22:48:46.382459-1\"], _dic=dict((k, v) for (k, v) in _dict_of_variables[\"2017-09-03 22:48:46.382459-1\"].__dict__.items() if not hasattr(v, \"__call__\")),**{\"toto\":toto,\"t\":t}, **kwargs)\n",
      "instance.temp = lambda **kwargs: getattr(_dict_of_variables[\"2017-09-03 22:48:46.382459-0\"], _dict_of_variables[\"2017-09-03 22:48:46.382459-4\"])(_obj = _dict_of_variables[\"2017-09-03 22:48:46.382459-1\"], _dic=dict((k, v) for (k, v) in _dict_of_variables[\"2017-09-03 22:48:46.382459-1\"].__dict__.items() if not hasattr(v, \"__call__\")),**{}, **kwargs)\n"
     ]
    }
   ],
   "source": [
    "# we instanciate a class of the submodule\n",
    "x = submodule1.file1.Hallo(name=\"Pierre\")"
   ]
  },
  {
   "cell_type": "code",
   "execution_count": 13,
   "metadata": {},
   "outputs": [
    {
     "data": {
      "text/plain": [
       "__main__.Hallo"
      ]
     },
     "execution_count": 13,
     "metadata": {},
     "output_type": "execute_result"
    }
   ],
   "source": [
    "# the type is the good one\n",
    "type(x)"
   ]
  },
  {
   "cell_type": "code",
   "execution_count": 14,
   "metadata": {},
   "outputs": [
    {
     "data": {
      "text/plain": [
       "{'name': 'Pierre',\n",
       " 'polite': <function __main__.<lambda>>,\n",
       " 'sentence': 'Hallo Pierre !',\n",
       " 'test': <function __main__.<lambda>>}"
      ]
     },
     "execution_count": 14,
     "metadata": {},
     "output_type": "execute_result"
    }
   ],
   "source": [
    "x.__dict__"
   ]
  },
  {
   "cell_type": "code",
   "execution_count": 15,
   "metadata": {
    "scrolled": true
   },
   "outputs": [
    {
     "name": "stdout",
     "output_type": "stream",
     "text": [
      "updating object...\n"
     ]
    },
    {
     "data": {
      "text/plain": [
       "My name is Pierre"
      ]
     },
     "execution_count": 15,
     "metadata": {},
     "output_type": "execute_result"
    }
   ],
   "source": [
    "# the object has both attributes and methods\n",
    "# (to be precise, it has no method, but rather functions)\n",
    "x"
   ]
  },
  {
   "cell_type": "code",
   "execution_count": 16,
   "metadata": {
    "collapsed": true
   },
   "outputs": [],
   "source": [
    "x.name = 'Paul'"
   ]
  },
  {
   "cell_type": "code",
   "execution_count": 17,
   "metadata": {},
   "outputs": [
    {
     "data": {
      "text/plain": [
       "{'name': 'Paul',\n",
       " 'polite': <function __main__.<lambda>>,\n",
       " 'sentence': 'Hallo Pierre !',\n",
       " 'test': <function __main__.<lambda>>}"
      ]
     },
     "execution_count": 17,
     "metadata": {},
     "output_type": "execute_result"
    }
   ],
   "source": [
    "x.__dict__"
   ]
  },
  {
   "cell_type": "code",
   "execution_count": 18,
   "metadata": {},
   "outputs": [
    {
     "name": "stdout",
     "output_type": "stream",
     "text": [
      "updating object...\n"
     ]
    },
    {
     "data": {
      "text/plain": [
       "My name is Paul"
      ]
     },
     "execution_count": 18,
     "metadata": {},
     "output_type": "execute_result"
    }
   ],
   "source": [
    "x"
   ]
  },
  {
   "cell_type": "code",
   "execution_count": 19,
   "metadata": {},
   "outputs": [
    {
     "name": "stdout",
     "output_type": "stream",
     "text": [
      "updating object...\n"
     ]
    }
   ],
   "source": [
    "# below lies the magic ! We can call remote methods on objects\n",
    "# and they will be executed almost as usual.\n",
    "# The method can do two things\n",
    "# (and in this example the method 'polite' actually does these two things) : \n",
    "# - return a result (which is in the return statement in the remote method)\n",
    "# - modify in-place the object calling the method (here the 'sentence' attribute is modified)\n",
    "# The only restriction is that the methods of the object cannot be modified in-place, for now. \n",
    "# But we could imagine a solution to this problem\n",
    "# (which is quite far-fetched anyway) by using some kind of flag in the server.  \n",
    "\n",
    "# Two delicate things are handled behind the scenes :\n",
    "# - the **kwargs are working ('s' is a kwarg here)\n",
    "# - the by-default arguments are working as well\n",
    "#   (if you look at polite, you will see it has a by-default 't' argument)\n",
    "\n",
    "res = x.polite(toto='Smith', s=2)"
   ]
  },
  {
   "cell_type": "code",
   "execution_count": 20,
   "metadata": {},
   "outputs": [
    {
     "data": {
      "text/plain": [
       "'Welcome to my nice hotel, Mr Smith'"
      ]
     },
     "execution_count": 20,
     "metadata": {},
     "output_type": "execute_result"
    }
   ],
   "source": [
    "res"
   ]
  },
  {
   "cell_type": "code",
   "execution_count": 21,
   "metadata": {},
   "outputs": [
    {
     "name": "stdout",
     "output_type": "stream",
     "text": [
      "updating object...\n"
     ]
    },
    {
     "data": {
      "text/plain": [
       "My name is Paul"
      ]
     },
     "execution_count": 21,
     "metadata": {},
     "output_type": "execute_result"
    }
   ],
   "source": [
    "x"
   ]
  },
  {
   "cell_type": "code",
   "execution_count": 22,
   "metadata": {},
   "outputs": [
    {
     "name": "stdout",
     "output_type": "stream",
     "text": [
      "updating object...\n",
      "Welcome to my nice hotel, Mr 42\n"
     ]
    }
   ],
   "source": [
    "res = x.polite(toto='42')\n",
    "print(res)"
   ]
  },
  {
   "cell_type": "code",
   "execution_count": 23,
   "metadata": {},
   "outputs": [
    {
     "name": "stdout",
     "output_type": "stream",
     "text": [
      "creating class dynamically...\n",
      "function = lambda _dic,**kwargs: generic_function(\"submodule1\", \"file1\", \"Hallo\", \"__repr__\", **{\"_dic\":_dic}, **kwargs)\n",
      "function = lambda _dic,toto,t=3,**kwargs: generic_function(\"submodule1\", \"file1\", \"Hallo\", \"polite\", **{\"_dic\":_dic,\"toto\":toto,\"t\":t}, **kwargs)\n",
      "function = lambda _dic,**kwargs: generic_function(\"submodule1\", \"file1\", \"Hallo\", \"test\", **{\"_dic\":_dic}, **kwargs)\n",
      "in change_instance_functions_to_pass_obj_and_dic\n",
      "instance.temp = lambda **kwargs: getattr(_dict_of_variables[\"2017-09-03 22:48:46.504694-0\"], _dict_of_variables[\"2017-09-03 22:48:46.504694-2\"])(_obj = _dict_of_variables[\"2017-09-03 22:48:46.504694-1\"], _dic=dict((k, v) for (k, v) in _dict_of_variables[\"2017-09-03 22:48:46.504694-1\"].__dict__.items() if not hasattr(v, \"__call__\")),**{}, **kwargs)\n",
      "instance.temp = lambda toto=\"__$__\",t=\"__$__\",**kwargs: getattr(_dict_of_variables[\"2017-09-03 22:48:46.504694-0\"], _dict_of_variables[\"2017-09-03 22:48:46.504694-3\"])(_obj = _dict_of_variables[\"2017-09-03 22:48:46.504694-1\"], _dic=dict((k, v) for (k, v) in _dict_of_variables[\"2017-09-03 22:48:46.504694-1\"].__dict__.items() if not hasattr(v, \"__call__\")),**{\"toto\":toto,\"t\":t}, **kwargs)\n",
      "instance.temp = lambda **kwargs: getattr(_dict_of_variables[\"2017-09-03 22:48:46.504694-0\"], _dict_of_variables[\"2017-09-03 22:48:46.504694-4\"])(_obj = _dict_of_variables[\"2017-09-03 22:48:46.504694-1\"], _dic=dict((k, v) for (k, v) in _dict_of_variables[\"2017-09-03 22:48:46.504694-1\"].__dict__.items() if not hasattr(v, \"__call__\")),**{}, **kwargs)\n",
      "updating object...\n",
      "Welcome to my nice hotel, Mr Cauchy\n"
     ]
    },
    {
     "data": {
      "text/plain": [
       "'Hallo Augustin Louis Cauchy'"
      ]
     },
     "execution_count": 23,
     "metadata": {},
     "output_type": "execute_result"
    }
   ],
   "source": [
    "# another example, without all the intermediate steps. \n",
    "# The only weird thing compared to what we could expect is the [1].\n",
    "# All the rest is normal.\n",
    "# This line requires two requests :\n",
    "# - one to instantiate the object of the class Hallo()\n",
    "# - one to execute the method 'polite'\n",
    "obj = submodule1.file1.Hallo(name='Augustin Louis')\n",
    "print(obj.polite('Cauchy'))\n",
    "obj.sentence"
   ]
  },
  {
   "cell_type": "code",
   "execution_count": 24,
   "metadata": {},
   "outputs": [
    {
     "name": "stdout",
     "output_type": "stream",
     "text": [
      "updating object...\n",
      "updating object...\n"
     ]
    },
    {
     "data": {
      "text/plain": [
       "{'2017-09-03 22:48:46.382459-0': {'name': 'Pierre', 'sentence': 'Hallo Pierre !', '__repr__': <function <lambda> at 0x117085e18>, 'polite': <function <lambda> at 0x1170ea048>, 'test': <function <lambda> at 0x1170ea1e0>},\n",
       " '2017-09-03 22:48:46.382459-1': My name is Paul,\n",
       " '2017-09-03 22:48:46.382459-2': '__repr__',\n",
       " '2017-09-03 22:48:46.382459-3': 'polite',\n",
       " '2017-09-03 22:48:46.382459-4': 'test',\n",
       " '2017-09-03 22:48:46.504694-0': {'name': 'Augustin Louis', 'sentence': 'Hallo Augustin Louis !', '__repr__': <function <lambda> at 0x1170ea510>, 'polite': <function <lambda> at 0x1170ea488>, 'test': <function <lambda> at 0x1170ea950>},\n",
       " '2017-09-03 22:48:46.504694-1': My name is Augustin Louis,\n",
       " '2017-09-03 22:48:46.504694-2': '__repr__',\n",
       " '2017-09-03 22:48:46.504694-3': 'polite',\n",
       " '2017-09-03 22:48:46.504694-4': 'test'}"
      ]
     },
     "execution_count": 24,
     "metadata": {},
     "output_type": "execute_result"
    }
   ],
   "source": [
    "_dict_of_variables"
   ]
  },
  {
   "cell_type": "code",
   "execution_count": null,
   "metadata": {
    "collapsed": true
   },
   "outputs": [],
   "source": []
  }
 ],
 "metadata": {
  "kernelspec": {
   "display_name": "Python object-over-api",
   "language": "python",
   "name": "object-over-api"
  },
  "language_info": {
   "codemirror_mode": {
    "name": "ipython",
    "version": 3
   },
   "file_extension": ".py",
   "mimetype": "text/x-python",
   "name": "python",
   "nbconvert_exporter": "python",
   "pygments_lexer": "ipython3",
   "version": "3.6.0"
  }
 },
 "nbformat": 4,
 "nbformat_minor": 2
}
